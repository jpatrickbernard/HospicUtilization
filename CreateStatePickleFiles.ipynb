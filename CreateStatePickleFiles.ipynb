{
 "cells": [
  {
   "cell_type": "markdown",
   "metadata": {},
   "source": [
    "# Hospice Utilization by Minorites\n",
    "## Investigator: J. Patrick Bernard\n",
    "## MSDS692 DataSciencePracticum 2"
   ]
  },
  {
   "cell_type": "markdown",
   "metadata": {},
   "source": [
    "###  Data Preparation  \n",
    "This workbook is use to do some data cleaning and preparation for the analysis workbooks.  \n",
    "Only data for the 50 states and the Dist of Columbia is processed for the study I am performing.  the remaining data was not used in this study.  \n"
   ]
  },
  {
   "cell_type": "code",
   "execution_count": 1,
   "metadata": {},
   "outputs": [],
   "source": [
    "# packages  ** TODO: clean this up for only the packages that are used **\n",
    "import pandas as pd\n",
    "import numpy as np\n",
    "import dask.dataframe as dd\n",
    "import re\n",
    "import os\n",
    "import pickle\n",
    "from io import StringIO\n",
    "from matplotlib import pyplot as plt"
   ]
  },
  {
   "cell_type": "code",
   "execution_count": 2,
   "metadata": {},
   "outputs": [
    {
     "data": {
      "text/html": [
       "<style>.container { width:95% !important; }</style>"
      ],
      "text/plain": [
       "<IPython.core.display.HTML object>"
      ]
     },
     "metadata": {},
     "output_type": "display_data"
    }
   ],
   "source": [
    "#format the work space\n",
    "from IPython.core.display import display, HTML\n",
    "display(HTML(\"<style>.container { width:95% !important; }</style>\"))\n",
    "%matplotlib inline\n",
    "plt.rcParams['figure.figsize'] = [10, 10]"
   ]
  },
  {
   "cell_type": "code",
   "execution_count": 3,
   "metadata": {},
   "outputs": [],
   "source": [
    "states = {1:'Alabama',2:'Alaska',3:'Arizona',4:'Arkansas',5:'California',6:'Colorado',7:'Connecticut',8:'Delaware',\n",
    "          9:'DistOCol',10:'Florida',11:'Georgia',12:'Hawaii',13:'Idaho',14:'Illinois',15:'Indiana',16:'Iowa',17:'Kansas',\n",
    "          18:'Kentucky',19:'Louisiana',20:'Maine',21:'Maryland',22:'Massachusetts',23:'Michigan',24:'Minnisota',\n",
    "          25:'Mississippi',26:'Missouri',27:'Montana',28:'Nebraska',29:'Nevada',30:'NewHampshire',31:'NewJersey',\n",
    "          32:'NewMexico',33:'NewYork',34:'NorthCarolina',35:'NorthDakota',36:'Ohio',37:'Oklahoma',38:'Oregon',39:'Pennsylvainia',\n",
    "          40:'PuertoRico',41:'RhodeIsland',42:'SouthCarolina',43:'SouthDakota',44:'Tennessee',45:'Texas',46:'Utah',47:'Vermont',\n",
    "          48:'VirginIsland',49:'Virginia',50:'Washington',51:'WestVirgina',52:'Wisconson',53:'Wyoming',54:'Africa',55:'Canada_Islands',\n",
    "          56:'CentAmerWstInd',57:'Europe',58:'Mexico',59:'Oceania',60:'Philippines',61:'SouthAmerica',62:'UsPosessions',\n",
    "          63:'AmericanSamoa',64:'Guam',65:'SaipanNorthMarianas',97:'NorthernMarianas',98:'Guam',99:'Unknown'}"
   ]
  },
  {
   "cell_type": "code",
   "execution_count": 4,
   "metadata": {},
   "outputs": [],
   "source": [
    "denom_file = dd.read_csv('E:\\PatrickBernard\\MBSF2018Annual.csv')"
   ]
  },
  {
   "cell_type": "code",
   "execution_count": 6,
   "metadata": {},
   "outputs": [
    {
     "name": "stdout",
     "output_type": "stream",
     "text": [
      "1\n",
      "2\n",
      "3\n",
      "4\n",
      "5\n",
      "6\n",
      "7\n",
      "8\n",
      "9\n",
      "10\n",
      "11\n",
      "12\n",
      "13\n",
      "14\n",
      "15\n",
      "16\n",
      "17\n",
      "18\n",
      "19\n",
      "20\n",
      "21\n",
      "22\n",
      "23\n",
      "24\n",
      "25\n",
      "26\n",
      "27\n",
      "28\n",
      "29\n",
      "30\n",
      "31\n",
      "32\n",
      "33\n",
      "34\n",
      "35\n",
      "36\n",
      "37\n",
      "38\n",
      "39\n",
      "40\n",
      "41\n",
      "42\n",
      "43\n",
      "44\n",
      "45\n",
      "46\n",
      "47\n",
      "48\n",
      "49\n",
      "50\n",
      "51\n",
      "52\n",
      "53\n"
     ]
    }
   ],
   "source": [
    "for i in range(1,54):\n",
    "    print(i)\n",
    "    if i == 40 or i == 48:\n",
    "        continue\n",
    "    region_data = denom_file[denom_file.D_State == i]\n",
    "    region_data = region_data.compute()  # Turn the dask data object into a pandas object\n",
    "    with open(f'e:/PatrickBernard/{states[i]}MBSF2018.pkl', 'wb') as f:\n",
    "        pickle.dump(region_data, f)"
   ]
  },
  {
   "cell_type": "markdown",
   "metadata": {},
   "source": [
    "**Note**  \n",
    "because when I created the pickle files I forgot to clean the dataframe before I save the pkle file I had to write the below cells.  "
   ]
  },
  {
   "cell_type": "code",
   "execution_count": 7,
   "metadata": {},
   "outputs": [],
   "source": [
    "def data_clean(reg_data):\n",
    "\n",
    "    #convert D_DOD_Date to date format\n",
    "    reg_data.D_DOD_Date = pd.to_datetime(reg_data.D_DOD_Date, errors = 'coerce')\n",
    "    reg_data.replace(to_replace=' ', value=np.nan, inplace=True)\n",
    "\n",
    "    #Set the data type for numberical data\n",
    "\n",
    "    reg_data['D_HOS_PROVIDER_ID'] = reg_data['D_HOS_PROVIDER_ID'].astype(float)\n",
    "    reg_data['D_HOS_PTDCSTUS'] = reg_data['D_HOS_PTDCSTUS'].astype(float)\n",
    "    reg_data['D_HOS_Died'] = reg_data['D_HOS_Died'].astype(float)\n",
    "    reg_data['D_HOS_UTIL_DAY'] = reg_data['D_HOS_UTIL_DAY'].astype(float)\n",
    "    reg_data['D_HOS_PMT_AMT'] = reg_data['D_HOS_PMT_AMT'].astype(float)\n",
    "    reg_data['D_INPT_PROVIDER_ID'] = reg_data['D_INPT_PROVIDER_ID'].astype(float)\n",
    "    reg_data['D_INPT_Died'] = reg_data['D_INPT_Died'].astype(float)\n",
    "    reg_data['D_INPT_UTIL_DAY'] = reg_data['D_INPT_UTIL_DAY'].astype(float)\n",
    "    reg_data['D_INPT_PMT_AMT'] = reg_data['D_INPT_PMT_AMT'].astype(float)\n",
    "    reg_data['D_SNF_PROVIDER_ID'] = reg_data['D_SNF_PROVIDER_ID'].astype(float)\n",
    "    reg_data['D_SNF_Died'] = reg_data['D_SNF_Died'].astype(float)\n",
    "    reg_data['D_SNF_UTIL_DAY'] = reg_data['D_SNF_UTIL_DAY'].astype(float)\n",
    "    reg_data['D_SNF_PMT_AMT'] = reg_data['D_SNF_PMT_AMT'].astype(float)\n",
    "    reg_data['D_HHA_PROVIDER_ID'] = reg_data['D_HHA_PROVIDER_ID'].astype(float)\n",
    "    reg_data['D_HHA_PTDCSTUS'] = reg_data['D_HHA_PTDCSTUS'].astype(float)\n",
    "    reg_data['D_HHA_Visits'] = reg_data['D_HHA_Visits'].astype(float)\n",
    "    reg_data['D_HHA_PMT_AMT'] = reg_data['D_HHA_PMT_AMT'].astype(float)\n",
    "    reg_data['D_HHA_Days'] = reg_data['D_HHA_Days'].astype(float)\n",
    "    reg_data['D_HHA_DIED'] = reg_data['D_HHA_DIED'].astype(float)\n",
    "    return(reg_data)\n"
   ]
  },
  {
   "cell_type": "code",
   "execution_count": 12,
   "metadata": {},
   "outputs": [
    {
     "name": "stdout",
     "output_type": "stream",
     "text": [
      "completed: AlabamaMBSF2018.pkl\n",
      "completed: AlaskaMBSF2018.pkl\n",
      "completed: ArizonaMBSF2018.pkl\n",
      "completed: ArkansasMBSF2018.pkl\n",
      "completed: CaliforniaMBSF2018.pkl\n",
      "completed: ColoradoMBSF2018.pkl\n",
      "completed: ConnecticutMBSF2018.pkl\n",
      "completed: DelawareMBSF2018.pkl\n",
      "completed: DistOColMBSF2018.pkl\n",
      "completed: FloridaMBSF2018.pkl\n",
      "completed: GeorgiaMBSF2018.pkl\n",
      "completed: HawaiiMBSF2018.pkl\n",
      "completed: IdahoMBSF2018.pkl\n",
      "completed: IllinoisMBSF2018.pkl\n",
      "completed: IndianaMBSF2018.pkl\n",
      "completed: IowaMBSF2018.pkl\n",
      "completed: KansasMBSF2018.pkl\n",
      "completed: KentuckyMBSF2018.pkl\n",
      "completed: LouisianaMBSF2018.pkl\n",
      "completed: MaineMBSF2018.pkl\n",
      "completed: MarylandMBSF2018.pkl\n",
      "completed: MassachusettsMBSF2018.pkl\n",
      "completed: MichiganMBSF2018.pkl\n",
      "completed: MinnisotaMBSF2018.pkl\n",
      "completed: MississippiMBSF2018.pkl\n",
      "completed: MissouriMBSF2018.pkl\n",
      "completed: MontanaMBSF2018.pkl\n",
      "completed: NebraskaMBSF2018.pkl\n",
      "completed: NevadaMBSF2018.pkl\n",
      "completed: NewHampshireMBSF2018.pkl\n",
      "completed: NewJerseyMBSF2018.pkl\n",
      "completed: NewMexicoMBSF2018.pkl\n",
      "completed: NewYorkMBSF2018.pkl\n",
      "completed: NorthCarolinaMBSF2018.pkl\n",
      "completed: NorthDakotaMBSF2018.pkl\n",
      "completed: OhioMBSF2018.pkl\n",
      "completed: OklahomaMBSF2018.pkl\n",
      "completed: OregonMBSF2018.pkl\n",
      "completed: PennsylvainiaMBSF2018.pkl\n",
      "completed: RhodeIslandMBSF2018.pkl\n",
      "completed: SouthCarolinaMBSF2018.pkl\n",
      "completed: SouthDakotaMBSF2018.pkl\n",
      "completed: TennesseeMBSF2018.pkl\n",
      "completed: TexasMBSF2018.pkl\n",
      "completed: UtahMBSF2018.pkl\n",
      "completed: VermontMBSF2018.pkl\n",
      "completed: VirginiaMBSF2018.pkl\n",
      "completed: WashingtonMBSF2018.pkl\n",
      "completed: WestVirginaMBSF2018.pkl\n",
      "completed: WisconsonMBSF2018.pkl\n",
      "completed: WyomingMBSF2018.pkl\n"
     ]
    }
   ],
   "source": [
    "for file in os.listdir(f'e:/PatrickBernard/'):\n",
    "    if file.endswith('.pkl'):\n",
    "        with open(f'e:/PatrickBernard/{file}', 'rb') as f:\n",
    "            regional_data = pickle.load(f)\n",
    "        region_data = data_clean(regional_data)\n",
    "        with open(f'e:/PatrickBernard/{file}', 'wb') as f:\n",
    "            pickle.dump(region_data, f)\n",
    "        print(f'completed: {file}')"
   ]
  },
  {
   "cell_type": "raw",
   "metadata": {},
   "source": [
    "file = 'AlaskaMBSF2018-Copy.pkl'\n",
    "with open(f'e:/PatrickBernard/{file}', 'rb') as f:\n",
    "    regional_data = pickle.load(f)\n",
    "region_data = data_clean(regional_data)\n",
    "with open(f'e:/PatrickBernard/{file}', 'wb') as f:\n",
    "    pickle.dump(region_data, f)\n",
    "print(f'completed: {file}')"
   ]
  },
  {
   "cell_type": "markdown",
   "metadata": {},
   "source": [
    "**Note:**  \n",
    "The cell below is use to create a training sample set for training the Randomforest classifier.  \n",
    "I am going to select 1% of the data to train on, this may be a small training set but 1 am worried  \n",
    "about the about of compute resources 1 have. the cel is designed so if I find i have enough compute I  \n",
    "can run the sell again to generate more random sample.  I am not setting a seed for this reason."
   ]
  },
  {
   "cell_type": "code",
   "execution_count": 4,
   "metadata": {},
   "outputs": [
    {
     "name": "stdout",
     "output_type": "stream",
     "text": [
      "completed: AlabamaMBSF2018.pkl\n",
      "completed: AlaskaMBSF2018.pkl\n",
      "completed: ArizonaMBSF2018.pkl\n",
      "completed: ArkansasMBSF2018.pkl\n",
      "completed: CaliforniaMBSF2018.pkl\n",
      "completed: ColoradoMBSF2018.pkl\n",
      "completed: ConnecticutMBSF2018.pkl\n",
      "completed: DelawareMBSF2018.pkl\n",
      "completed: DistOColMBSF2018.pkl\n",
      "completed: FloridaMBSF2018.pkl\n",
      "completed: GeorgiaMBSF2018.pkl\n",
      "completed: HawaiiMBSF2018.pkl\n",
      "completed: IdahoMBSF2018.pkl\n",
      "completed: IllinoisMBSF2018.pkl\n",
      "completed: IndianaMBSF2018.pkl\n",
      "completed: IowaMBSF2018.pkl\n",
      "completed: KansasMBSF2018.pkl\n",
      "completed: KentuckyMBSF2018.pkl\n",
      "completed: LouisianaMBSF2018.pkl\n",
      "completed: MaineMBSF2018.pkl\n",
      "completed: MarylandMBSF2018.pkl\n",
      "completed: MassachusettsMBSF2018.pkl\n",
      "completed: MichiganMBSF2018.pkl\n",
      "completed: MinnisotaMBSF2018.pkl\n",
      "completed: MississippiMBSF2018.pkl\n",
      "completed: MissouriMBSF2018.pkl\n",
      "completed: MontanaMBSF2018.pkl\n",
      "completed: NebraskaMBSF2018.pkl\n",
      "completed: NevadaMBSF2018.pkl\n",
      "completed: NewHampshireMBSF2018.pkl\n",
      "completed: NewJerseyMBSF2018.pkl\n",
      "completed: NewMexicoMBSF2018.pkl\n",
      "completed: NewYorkMBSF2018.pkl\n",
      "completed: NorthCarolinaMBSF2018.pkl\n",
      "completed: NorthDakotaMBSF2018.pkl\n",
      "completed: OhioMBSF2018.pkl\n",
      "completed: OklahomaMBSF2018.pkl\n",
      "completed: OregonMBSF2018.pkl\n",
      "completed: PennsylvainiaMBSF2018.pkl\n",
      "completed: RhodeIslandMBSF2018.pkl\n",
      "completed: SouthCarolinaMBSF2018.pkl\n",
      "completed: SouthDakotaMBSF2018.pkl\n",
      "completed: TennesseeMBSF2018.pkl\n",
      "completed: TexasMBSF2018.pkl\n",
      "completed: UtahMBSF2018.pkl\n",
      "completed: VermontMBSF2018.pkl\n",
      "completed: VirginiaMBSF2018.pkl\n",
      "completed: WashingtonMBSF2018.pkl\n",
      "completed: WestVirginaMBSF2018.pkl\n",
      "completed: WisconsonMBSF2018.pkl\n",
      "completed: WyomingMBSF2018.pkl\n"
     ]
    }
   ],
   "source": [
    "for file in os.listdir(f'e:/PatrickBernard/'):\n",
    "    if file.endswith('.pkl'):\n",
    "        with open(f'e:/PatrickBernard/{file}', 'rb') as f:\n",
    "            regional_data = pickle.load(f)\n",
    "        #create a training set of dat that is reprisentative of the population\n",
    "        sample_data = regional_data.groupby('D_Race').apply(lambda x: x.sample(frac=0.02)).reset_index(drop=True)\n",
    "        \n",
    "        try:\n",
    "            with open(f'e:/PatrickBernard/training_set.pk2', 'rb') as f:\n",
    "                            training_set = pickle.load(f)\n",
    "        except (OSError, IOError) as e:\n",
    "            training_set = pd.DataFrame()\n",
    "\n",
    "        training_set = training_set.append(sample_data, ignore_index=True)\n",
    "\n",
    "        with open(f'e:/PatrickBernard/training_set.pk2', 'wb') as f:\n",
    "            pickle.dump(training_set, f)\n",
    "        print(f'completed: {file}')"
   ]
  },
  {
   "cell_type": "code",
   "execution_count": null,
   "metadata": {},
   "outputs": [],
   "source": []
  }
 ],
 "metadata": {
  "kernelspec": {
   "display_name": "Python 3",
   "language": "python",
   "name": "python3"
  },
  "language_info": {
   "codemirror_mode": {
    "name": "ipython",
    "version": 3
   },
   "file_extension": ".py",
   "mimetype": "text/x-python",
   "name": "python",
   "nbconvert_exporter": "python",
   "pygments_lexer": "ipython3",
   "version": "3.7.4"
  }
 },
 "nbformat": 4,
 "nbformat_minor": 2
}
